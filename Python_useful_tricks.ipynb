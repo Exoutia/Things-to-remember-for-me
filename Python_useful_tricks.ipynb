{
 "cells": [
  {
   "cell_type": "markdown",
   "metadata": {},
   "source": [
    "# Simple thngs to remember in pyhton"
   ]
  },
  {
   "cell_type": "markdown",
   "metadata": {},
   "source": [
    "<a id=top></a>"
   ]
  },
  {
   "cell_type": "markdown",
   "metadata": {},
   "source": [
    "\n",
    "## Contents\n",
    "1. [How to know if all elements in list are same](#sec1)\n",
    "2. [Remove Duplicate Elements](#sec2)\n",
    "3. [Iterate over multiple lists simultaneously using zip](#sec3)\n",
    "4. [Merge two dictionary](#sec4)\n",
    "5. [Multiple conditons in a single if-statement](#sec5)\n",
    "6. [Delete all elements in the list](#sec6)\n",
    "7. [Sorting Dictionary with values or keys](#sec7)\n",
    "8. [Access Dictionary Items](#sec8)\n",
    "9. [Print string output using f-strings](#sec9)\n",
    "10. [Regex](#sec10)  \n",
    "11. [Faster loops](#sec11)                                                               \n",
    "👇[Bottom](#bottom)\n"
   ]
  },
  {
   "cell_type": "markdown",
   "metadata": {},
   "source": [
    "<a id='sec1'></a>\n",
    "    <font color=Leaf>1. How to know if all elements in list are same</font>\n",
    "    "
   ]
  },
  {
   "cell_type": "markdown",
   "metadata": {},
   "source": [
    "Best pythonic way is to convert list into set(if you remember set is a data structre in python which can not contain same elements) by doing this set will contain only one element which if it is all same elements."
   ]
  },
  {
   "cell_type": "code",
   "execution_count": null,
   "metadata": {},
   "outputs": [],
   "source": [
    "lis1= [1,3,4,6,7,8,9,99,12]\n",
    "len(set(lis1))==1"
   ]
  },
  {
   "cell_type": "code",
   "execution_count": null,
   "metadata": {},
   "outputs": [],
   "source": [
    "lis2 = [1,1,1,1,1,1,1,1,1,1]\n",
    "len(set(lis2))==1"
   ]
  },
  {
   "cell_type": "markdown",
   "metadata": {},
   "source": [
    "<a id=sec2></a>\n",
    "<font color=leaf>2. Remove Duplicate Elements</font>"
   ]
  },
  {
   "cell_type": "markdown",
   "metadata": {},
   "source": [
    "Same as before if we print both set we can see there will be no duplicate"
   ]
  },
  {
   "cell_type": "code",
   "execution_count": null,
   "metadata": {},
   "outputs": [],
   "source": [
    "print(set(lis2))"
   ]
  },
  {
   "cell_type": "code",
   "execution_count": null,
   "metadata": {},
   "outputs": [],
   "source": [
    "print(set(lis1))"
   ]
  },
  {
   "cell_type": "markdown",
   "metadata": {},
   "source": [
    "<a id=sec3></a>\n",
    "<font color=leaf>3. Iterate over multiple lists simultaneously using zip</font>"
   ]
  },
  {
   "cell_type": "markdown",
   "metadata": {},
   "source": [
    "Usually `for loops` is used to iterate over single list, however to iterate over multiple list without using iteration counter `zip()` function is used in `for` loop.\n",
    "\n",
    "By defination `zip()` function in python is used to aggregate elements from multiple iterable objects element wise into an iterable of tuples.\n",
    "\n",
    "for example using `zip()` function on two lists as in below example generates a of tuples\n",
    "\n"
   ]
  },
  {
   "cell_type": "code",
   "execution_count": null,
   "metadata": {},
   "outputs": [],
   "source": [
    "lis3=[1,2,3,4,5]\n",
    "lis4=['my', 'love', 'dogo']\n",
    "\n",
    "for i, w in zip(lis3, lis4):\n",
    "    print(f'{i}={w}')"
   ]
  },
  {
   "cell_type": "markdown",
   "metadata": {},
   "source": [
    "*Note: `zip()` function will stop making tuples of elements from provided iterables, when the smallest or shortest iterable is exhausted.*"
   ]
  },
  {
   "cell_type": "markdown",
   "metadata": {},
   "source": [
    "<a id=sec4></a>\n",
    "<font color=leaf>4. Merge two or more dictionaries<font>"
   ]
  },
  {
   "cell_type": "markdown",
   "metadata": {},
   "source": [
    "The simplest to merge two or more dictionaries is to use `update()` method as seen in below example, (but as you can see its updating the dic1 not creating a new one so you can see next method for it)"
   ]
  },
  {
   "cell_type": "code",
   "execution_count": null,
   "metadata": {},
   "outputs": [],
   "source": [
    "dic1={ 'key':98, 'mine':23, 'Miner':45}\n",
    "dic2={'Life': 1, 'Life_balance': 24, 'Key': 34}\n",
    "\n",
    "dic1.update(dic2)\n",
    "dic2\n",
    "print(dic1)"
   ]
  },
  {
   "cell_type": "markdown",
   "metadata": {},
   "source": [
    "another way to do this by **kwargs\n",
    "\n",
    "when we apply `**` to dictionary, then it expands the contents in dictionary as a collection of key value pairs. in short, it removes the curly brackets `{}`around key value pairs"
   ]
  },
  {
   "cell_type": "code",
   "execution_count": null,
   "metadata": {},
   "outputs": [],
   "source": [
    "dic1={ 'key':98, 'mine':23, 'Miner':45}\n",
    "dic2={'Life': 1, 'Life_balance': 24, 'Key': 34}\n",
    "\n",
    "dic3={**dic1, **dic2}\n",
    "\n",
    "dic3"
   ]
  },
  {
   "cell_type": "markdown",
   "metadata": {},
   "source": [
    "<a id=sec5></a>\n",
    "<font color=leaf>5. Multiple conditons in a single if-statement</font>"
   ]
  },
  {
   "cell_type": "markdown",
   "metadata": {},
   "source": [
    "Sometimes you need to pass multiple conditions in if-statement and run a block of code if all or any of the condition is True.\n",
    "\n",
    "🚩 As long as you have one or two conditions, you can mention it within if-statement. But, when you need to check 4 or more conditions, the if-statement looks lengthy and confusing also.\n",
    "\n",
    "But, no worries! Python built in functions — all() and any() — are here to help you out and save your time.\n",
    "\n",
    "By definition, all() returns True if all conditions are satisfied and any() returns True if at least one of the condition is satisfied.\n",
    "\n",
    "What you need to do is make a Python list of all the conditions you want to check. And use,\n",
    "\n",
    "1️⃣ all(list_of_conditions) : when you want to check if all the conditions are True. i.e. all the conditions are in logical AND."
   ]
  },
  {
   "cell_type": "code",
   "execution_count": null,
   "metadata": {},
   "outputs": [],
   "source": [
    "math=int(input(\"Enter the marks \"))\n",
    "English=int(input(\"Enter the marks \"))\n",
    "science=int(input(\"Enter the marks \"))\n",
    "hotel=int(input(\"Enter the marks \"))\n",
    "\n",
    "list_of_condi=[math>40, science>40, hotel>40, science>40]\n",
    "\n",
    "\n",
    "if all(list_of_condi):\n",
    "    print(\"yes\")\n",
    "elif any(list_of_condi):\n",
    "    print(\"great\")\n",
    "else:\n",
    "    print(\"fail\")\n",
    "\n"
   ]
  },
  {
   "cell_type": "markdown",
   "metadata": {},
   "source": [
    "<a id=sec6></a>\n",
    "<font color=leaf>6. Delete all elements in the list</font>"
   ]
  },
  {
   "cell_type": "markdown",
   "metadata": {},
   "source": [
    "An elegant way deleting all the items in the list is using slicing along with del keyword.\n",
    "\n",
    "From the basics of indexing in lists, all the items in the list can be selected using colon (:) operator such as list_name[:] .\n",
    "\n",
    "To delete all the items from the list, you simple need to add del keyword before list_name[:] as shown below,\n",
    "\n"
   ]
  },
  {
   "cell_type": "code",
   "execution_count": null,
   "metadata": {},
   "outputs": [],
   "source": [
    "newlist=[1,2,3,4,5,6,7,8,9,9,88,99,00]\n",
    "print(newlist)\n",
    "del newlist[:]\n",
    "print(newlist)"
   ]
  },
  {
   "cell_type": "markdown",
   "metadata": {},
   "source": [
    "In this way the list is emptied rather than completely deleting it. This list can be re-populated using new items.\n",
    "\n",
    "Alternatively, you can also use .clear() method such as new_list.clear() to empty it. ✔️"
   ]
  },
  {
   "cell_type": "markdown",
   "metadata": {},
   "source": [
    "<a id=sec7></a>\n",
    "<font color=leaf>7. Sort Dictionary by Value</font>"
   ]
  },
  {
   "cell_type": "markdown",
   "metadata": {},
   "source": [
    "Dictionary, as we all know, being a key-value pair can be sorted based on keys by default. However, sometimes we need to sort dictionary based on the values.\n",
    "\n",
    "The dictionary can be sorted using sorted function which takes exactly three arguments — iterable, key, reverse and using the key argument you can decide how to sort the dictionary."
   ]
  },
  {
   "cell_type": "code",
   "execution_count": null,
   "metadata": {},
   "outputs": [],
   "source": [
    "mydic={'hi':1, 'hello': 55, 'jello': -98, 'jou':-87, 'pou':98, 'A':988, 'a':0}\n",
    "print(f\"dictionary sorted with keys: {sorted(mydic.items())}\")\n",
    "print(f\"dictionary sorted with keys in descending order: {sorted(mydic.items(), reverse=True)}\")"
   ]
  },
  {
   "cell_type": "code",
   "execution_count": null,
   "metadata": {},
   "outputs": [],
   "source": [
    "mydic2={'hi':1, 'hello': 55, 'jello': -98, 'jou':-87, 'pou':98, 'A':988, 'a':0}\n",
    "print(f\"Dictionary sorted with values: {sorted(mydic2.items(), key=lambda x: x[1])}\")\n",
    "print(f\"Dictionary sorted with values in descending order: {sorted(mydic2.items(), key=lambda x: x[1], reverse=True)}\")"
   ]
  },
  {
   "cell_type": "markdown",
   "metadata": {},
   "source": [
    "By default, the sorting is done in alphabetical or ascending order. To sort the dictionary in descending order, you should set the reverse = True in sorted function. ♻️"
   ]
  },
  {
   "cell_type": "markdown",
   "metadata": {},
   "source": [
    "<a id=sec8></a>\n",
    "<font color=leaf>8. Access Dictionary Items</font>"
   ]
  },
  {
   "cell_type": "markdown",
   "metadata": {},
   "source": [
    "Depending on what you want to access from the dictionary below are the three methods.\n",
    "\n",
    "Use .keys(), .values() and .items() 🏆\n",
    "\n",
    "As the name suggests, .keys() and .values() can be used to access only keys and the values respectively. In already created dictionary in above example"
   ]
  },
  {
   "cell_type": "code",
   "execution_count": null,
   "metadata": {},
   "outputs": [],
   "source": [
    "mydic3={'ert': 1, 'soc': 45, 'post':78, 'life': 90}\n",
    "keys=mydic3.keys()\n",
    "print(f\"list of keys: {keys}\")\n",
    "values=mydic3.values()\n",
    "print(f\"list of values: {values}\")\n",
    "list_keys_values=mydic3.items()\n",
    "print(f\"tuple of key value pair: {list_keys_values}\")"
   ]
  },
  {
   "cell_type": "markdown",
   "metadata": {},
   "source": [
    "<a id=sec9></a>\n",
    "<font color=leaf>9. Print string output using f-strings</font>"
   ]
  },
  {
   "cell_type": "markdown",
   "metadata": {},
   "source": [
    "f-strings is the simpler implementation of the `format()` which is used to format the specified value and insert it inside the string’s placeholder.\n",
    "\n",
    "for example,"
   ]
  },
  {
   "cell_type": "code",
   "execution_count": null,
   "metadata": {},
   "outputs": [],
   "source": [
    "name, age1=\"Harsh\", 67\n",
    "print(\"{} is {} years old\".format(name, age1))"
   ]
  },
  {
   "cell_type": "markdown",
   "metadata": {},
   "source": [
    "2 curly braces in the above example are placeholder for two variables — name and age.\n",
    "\n",
    "Although it serves the purpose, `.format()` can still be quite lengthy when you are dealing with multiple parameters and longer strings.\n",
    "\n",
    "A simple solution to this problem is — f-strings. Such f-strings have an alphabet f at the start of the string to be formatted and have multiple placeholders `{}` within the string.\n",
    "\n",
    "The same type example as above is simplified using f-strings as below."
   ]
  },
  {
   "cell_type": "code",
   "execution_count": null,
   "metadata": {},
   "outputs": [],
   "source": [
    "name = 'Alex'\n",
    "age = '20'\n",
    "print(f'{name} is {age} years old')"
   ]
  },
  {
   "cell_type": "markdown",
   "metadata": {},
   "source": [
    "<a id=sec10></a>\n",
    "<font color=leaf>10. Regular Expressions — regex</font>"
   ]
  },
  {
   "cell_type": "markdown",
   "metadata": {},
   "source": [
    "This list of useful tricks is incomplete without Regular Expressions. 💯\n",
    "\n",
    "One of the most commonly found data type is Text or String and there is nothing as powerful 💪🏻 as regex to analyze this data efficiently.\n",
    "\n",
    "Regular Expressions (regex) are sequence of characters which are used to extract textual patterns from the data. Using regex you can match input data with certain patterns and replace it with other data with minimum code.\n",
    "\n",
    "To avail this facility, you need to simply import the package as import re before you start using it.\n",
    "\n",
    "Here is a quick example on how stuff works"
   ]
  },
  {
   "cell_type": "code",
   "execution_count": null,
   "metadata": {},
   "outputs": [],
   "source": [
    "import re\n",
    "text = \"Hi this is my son 24 years old and he won 03 medals, I am proud of him.\"\n",
    "nums_in_text=re.findall(\"[0-9][0-9]\", text)\n",
    "print(nums_in_text)"
   ]
  },
  {
   "cell_type": "markdown",
   "metadata": {},
   "source": [
    "In this example I want to find the numbers in pattern of 2 digits in sentence thats why i have written in this order `[0-9][0-9]`"
   ]
  },
  {
   "cell_type": "markdown",
   "metadata": {},
   "source": [
    "<a id=sec11></a>\n",
    "<font color=leaf>11. Faster loops<font>"
   ]
  },
  {
   "cell_type": "markdown",
   "metadata": {},
   "source": [
    "As we all know python is slow language😥 unfotunately, but not to worry there are some ways to make loop faster like using builtin methods instead of python codes and using list comprehension."
   ]
  },
  {
   "cell_type": "code",
   "execution_count": null,
   "metadata": {},
   "outputs": [],
   "source": [
    "# creating a list of numbers\n",
    "import time\n",
    "lis1=[]\n",
    "start=time.perf_counter()\n",
    "for i in range(1000000):\n",
    "    lis1.append(i)\n",
    "end = time.perf_counter()\n",
    "print('Time taken: {}'.format(end-start))\n",
    "# time = 0.35111870000000067"
   ]
  },
  {
   "cell_type": "code",
   "execution_count": null,
   "metadata": {},
   "outputs": [],
   "source": [
    "# creating a list of numbers with list comprehension\n",
    "import time\n",
    "\n",
    "start=time.perf_counter()\n",
    "lis1=[i for i in range(1000000)]\n",
    "end = time.perf_counter()\n",
    "time_taken=end-start\n",
    "print(f'Time taken: {time_taken}')\n",
    "\n",
    "# time = 0.12183639999989282 time is even faster than the above one"
   ]
  },
  {
   "cell_type": "code",
   "execution_count": 5,
   "metadata": {},
   "outputs": [
    {
     "name": "stdout",
     "output_type": "stream",
     "text": [
      "Time taken: 0.2539769999999919\n"
     ]
    }
   ],
   "source": [
    "# summing the list of numbers using for loop\n",
    "import time\n",
    "\n",
    "start=time.perf_counter()\n",
    "Tum=0\n",
    "for i in range(1000000):\n",
    "    Tum+=i\n",
    "end = time.perf_counter()\n",
    "time_taken=end-start\n",
    "print(f'Time taken: {time_taken}')\n",
    "\n",
    "# time = 0.2539769999999919"
   ]
  },
  {
   "cell_type": "code",
   "execution_count": 6,
   "metadata": {},
   "outputs": [
    {
     "name": "stdout",
     "output_type": "stream",
     "text": [
      "Time taken: 0.16599239999999327\n"
     ]
    }
   ],
   "source": [
    "# summing the list of numbers using list comprehension and method\n",
    "import time\n",
    "\n",
    "start=time.perf_counter()\n",
    "Tum=[i for i in range(1000000)]\n",
    "x=sum(Tum)\n",
    "end = time.perf_counter()\n",
    "time_taken=end-start\n",
    "print(f'Time taken: {time_taken}')\n",
    "\n",
    "# time = 0.16599239999999327"
   ]
  },
  {
   "cell_type": "code",
   "execution_count": 8,
   "metadata": {},
   "outputs": [
    {
     "name": "stdout",
     "output_type": "stream",
     "text": [
      "Time taken: 0.06316110000000208\n"
     ]
    }
   ],
   "source": [
    "# suming the list of numbers using builtin range and sum\n",
    "import time\n",
    "\n",
    "start=time.perf_counter()\n",
    "x=sum(range(1000000))\n",
    "end = time.perf_counter()\n",
    "time_taken=end-start\n",
    "print(f'Time taken: {time_taken}')\n",
    "# Time taken: 0.06316110000000208 so much faster 😀"
   ]
  },
  {
   "cell_type": "markdown",
   "metadata": {},
   "source": [
    "As you have seen in above examples list comprehension and built in function and method make loops go faster but there is still a way to make it even faster that is using `numpy` cause its written in c language that make it faster than anything. let's see some example"
   ]
  },
  {
   "cell_type": "code",
   "execution_count": 10,
   "metadata": {},
   "outputs": [
    {
     "name": "stdout",
     "output_type": "stream",
     "text": [
      "Time taken: 0.0037386999999853288\n"
     ]
    }
   ],
   "source": [
    "# summing the list of numbers using numpy\n",
    "\n",
    "import numpy as np\n",
    "import time \n",
    "\n",
    "\n",
    "start=time.perf_counter()\n",
    "x=np.sum(np.arange(1000000))\n",
    "end = time.perf_counter()\n",
    "time_taken=end-start\n",
    "print(f'Time taken: {time_taken}')\n",
    "\n",
    "# Time taken: 0.03265840000005937 fastest 🎇🎊\n",
    "# Time taken: 0.0037477000000762928"
   ]
  },
  {
   "cell_type": "markdown",
   "metadata": {},
   "source": [
    "So we clearly know the winner"
   ]
  },
  {
   "cell_type": "markdown",
   "metadata": {},
   "source": [
    "<a id=bottom></a>\n",
    "[Go to Top](#top)"
   ]
  },
  {
   "cell_type": "markdown",
   "metadata": {},
   "source": []
  }
 ],
 "metadata": {
  "interpreter": {
   "hash": "2340d4d9569fe690993815faf1d381027f978d3e848c1860375f14aa6a6814ff"
  },
  "kernelspec": {
   "display_name": "Python 3.9.7 ('base')",
   "language": "python",
   "name": "python3"
  },
  "language_info": {
   "codemirror_mode": {
    "name": "ipython",
    "version": 3
   },
   "file_extension": ".py",
   "mimetype": "text/x-python",
   "name": "python",
   "nbconvert_exporter": "python",
   "pygments_lexer": "ipython3",
   "version": "3.9.7"
  },
  "orig_nbformat": 4
 },
 "nbformat": 4,
 "nbformat_minor": 2
}
